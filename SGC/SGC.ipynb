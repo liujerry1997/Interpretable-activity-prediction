{
 "cells": [
  {
   "cell_type": "code",
   "execution_count": 1,
   "metadata": {},
   "outputs": [],
   "source": [
    "import torch\n",
    "import numpy as np\n",
    "import scipy.sparse as sp\n",
    "from torch.utils.data import Dataset, DataLoader\n",
    "import torch.nn as nn\n",
    "import torch.nn.functional as F\n",
    "import pandas as pd\n",
    "from sklearn import model_selection\n",
    "import torch.optim as optim\n",
    "from torch.nn.utils.rnn import *\n",
    "import matplotlib.pyplot as plt"
   ]
  },
  {
   "cell_type": "markdown",
   "metadata": {},
   "source": [
    "## Generate normalized adjacency matrix and normalize the feature matrix"
   ]
  },
  {
   "cell_type": "code",
   "execution_count": 2,
   "metadata": {},
   "outputs": [],
   "source": [
    "def normalized_adjacency(adj):\n",
    "    adj = adj + sp.eye(adj.shape[0])\n",
    "    adj = sp.coo_matrix(adj)\n",
    "    row_sum = np.array(adj.sum(1))\n",
    "    d_inv_sqrt = np.power(row_sum, -0.5).flatten()\n",
    "    d_inv_sqrt[np.isinf(d_inv_sqrt)] = 0.\n",
    "    d_mat_inv_sqrt = sp.diags(d_inv_sqrt)\n",
    "    return d_mat_inv_sqrt.dot(adj).dot(d_mat_inv_sqrt).tocoo()\n",
    "\n",
    "def row_normalize(mx):\n",
    "    \"\"\"Row-normalize sparse matrix\"\"\"\n",
    "    rowsum = np.array(x.sum(1))\n",
    "    r_inv = np.power(rowsum, -1).flatten()\n",
    "    r_inv[np.isinf(r_inv)] = 0.\n",
    "    r_mat_inv = sp.diags(r_inv)\n",
    "    mx = r_mat_inv.dot(mx)\n",
    "    return x\n"
   ]
  },
  {
   "cell_type": "markdown",
   "metadata": {},
   "source": [
    "## Preprocess input features"
   ]
  },
  {
   "cell_type": "code",
   "execution_count": 3,
   "metadata": {},
   "outputs": [],
   "source": [
    "def sparse_mx_to_torch_sparse_tensor(sparse_mx):\n",
    "    \"\"\"Convert a scipy sparse matrix to a torch sparse tensor.\"\"\"\n",
    "    sparse_mx = sparse_mx.tocoo().astype(np.float32)\n",
    "    indices = torch.from_numpy(\n",
    "        np.vstack((sparse_mx.row, sparse_mx.col)).astype(np.int64))\n",
    "    values = torch.from_numpy(sparse_mx.data)\n",
    "    shape = torch.Size(sparse_mx.shape)\n",
    "    return torch.sparse.FloatTensor(indices, values, shape)\n",
    "\n",
    "\n",
    "def sgc_precompute(features, adj, degree):\n",
    "    adj = normalized_adjacency(adj)\n",
    "    adj = sparse_mx_to_torch_sparse_tensor(adj).float()\n",
    "    features = torch.tensor(features)\n",
    "    for i in range(degree):\n",
    "        features = torch.spmm(adj, features)\n",
    "    return features\n",
    "\n"
   ]
  },
  {
   "cell_type": "code",
   "execution_count": 4,
   "metadata": {},
   "outputs": [],
   "source": [
    "class MyDataset(Dataset):\n",
    "    def __init__(self, X, A, Y, degree):\n",
    "        self.X = X\n",
    "        self.A = A\n",
    "        self.Y = Y\n",
    "        self.degree = degree\n",
    "    def __len__(self):\n",
    "        return len(self.Y)\n",
    "    def __getitem__(self, index):\n",
    "        X = sgc_precompute(self.X[index], self.A[index], self.degree)\n",
    "        return X, torch.tensor(self.Y[index])\n",
    "def collate_fn(batch_data):\n",
    "    X_list = []\n",
    "    Y_list = []\n",
    "    for data in batch_data:\n",
    "        X_list.append(data[0])\n",
    "        Y_list.append(data[1])\n",
    "    padded_X = pad_sequence(X_list, padding_value = 0, batch_first = True)\n",
    "    return padded_X, torch.LongTensor(Y_list)"
   ]
  },
  {
   "cell_type": "markdown",
   "metadata": {},
   "source": [
    "## Models"
   ]
  },
  {
   "cell_type": "code",
   "execution_count": 5,
   "metadata": {},
   "outputs": [],
   "source": [
    "class SGC(nn.Module):\n",
    "    \"\"\"\n",
    "    A Simple PyTorch Implementation of Logistic Regression.\n",
    "    Assuming the features have been preprocessed with k-step graph propagation.\n",
    "    \"\"\"\n",
    "    def __init__(self, nfeat, nclass):\n",
    "        super(SGC, self).__init__()\n",
    "\n",
    "        self.linear1 = nn.Linear(nfeat, 10)\n",
    "        self.linear2 = nn.Linear(10, nclass)\n",
    "        self.relu = nn.ReLU()\n",
    "        self.sm = nn.Softmax(dim=1)\n",
    "\n",
    "    def forward(self, x):\n",
    "        x = self.relu(self.linear1(x))\n",
    "        output = self.linear2(x)\n",
    "        return output"
   ]
  },
  {
   "cell_type": "code",
   "execution_count": 6,
   "metadata": {},
   "outputs": [],
   "source": [
    "def train(model, train_dataloader, val_dataloader, optimizer, scheduler, criterion, num_epoch):\n",
    "    train_losses = []\n",
    "    val_losses = []\n",
    "    train_accs = []\n",
    "    val_accs = []\n",
    "    for epoch in range(num_epoch):\n",
    "        model.train()\n",
    "        correct = 0\n",
    "        total = 0\n",
    "        running_loss = 0\n",
    "        for batch_idx, (X, Y) in enumerate(train_dataloader):\n",
    "            optimizer.zero_grad()\n",
    "            \n",
    "            output = model.forward(X)\n",
    "            output = torch.sum(output, dim = 1, keepdim = False)\n",
    "            pred = torch.argmax(output, dim = 1)\n",
    "            \n",
    "            \"\"\"\n",
    "            X = torch.sum(X, dim = 1, keepdim = False)\n",
    "            print(X.shape)\n",
    "            output = model.forward(X)\n",
    "            pred = torch.argmax(output, dim = 1)\n",
    "            print(output.shape)\n",
    "            print(pred.shape)\n",
    "            print(Y.shape)\n",
    "            \"\"\"\n",
    "            \n",
    "            correct += (pred==Y).sum().item()\n",
    "            total += Y.size(0)\n",
    "            train_acc = correct/total\n",
    "            loss = criterion(output, Y) \n",
    "            running_loss += loss.item() * Y.size(0)\n",
    "            train_loss = running_loss/total\n",
    "            loss.backward()\n",
    "            optimizer.step()\n",
    "            \n",
    "        train_accs.append(train_acc)\n",
    "        train_losses.append(train_loss)\n",
    "        val_acc, val_loss = validate(model, val_dataloader, criterion)\n",
    "        scheduler.step(val_loss)\n",
    "        val_accs.append(val_acc)\n",
    "        val_losses.append(val_loss)\n",
    "    return train_losses, val_losses, train_accs, val_accs\n",
    "\n",
    "def validate(model, dataloader, criterion):\n",
    "    model.eval()\n",
    "    num_correct = 0\n",
    "    total = 0\n",
    "    running_loss = 0\n",
    "    for batch_idx, (X, Y) in enumerate(dataloader):\n",
    "        \n",
    "        \"\"\"\"\n",
    "        output = model.forward(X)\n",
    "        pred = torch.argmax(output, dim = 1)\n",
    "        \"\"\"\n",
    "        output = model.forward(X)\n",
    "        output = torch.sum(output, dim = 1, keepdim = False)\n",
    "        pred = torch.argmax(output, dim = 1)\n",
    "        num_correct += (pred==Y).sum().item()\n",
    "        total += Y.size(0)\n",
    "        loss = criterion(output, Y)\n",
    "        running_loss += loss.item() * Y.size(0)\n",
    "    return num_correct/total, running_loss/total\n"
   ]
  },
  {
   "cell_type": "code",
   "execution_count": 7,
   "metadata": {},
   "outputs": [],
   "source": [
    "train_f = np.load(\"data/train_feature.npy\", allow_pickle = True)\n",
    "train_adj_mx = np.load(\"data/train_adjacent_matrix.npy\", allow_pickle = True)\n",
    "train_label = np.load(\"data/train_label.npy\", allow_pickle = True)"
   ]
  },
  {
   "cell_type": "code",
   "execution_count": 8,
   "metadata": {},
   "outputs": [],
   "source": [
    "train_f_e = np.expand_dims(train_f, axis = 1)\n",
    "train_adj_mx_e = np.expand_dims(train_adj_mx, axis = 1)\n",
    "train_x_set = np.concatenate((train_f_e, train_adj_mx_e), axis = 1)"
   ]
  },
  {
   "cell_type": "code",
   "execution_count": 9,
   "metadata": {},
   "outputs": [],
   "source": [
    "train_X_set, val_X_set, train_Y, val_Y = model_selection.train_test_split(train_x_set, train_label, test_size = 0.2, random_state = 42)"
   ]
  },
  {
   "cell_type": "code",
   "execution_count": 10,
   "metadata": {},
   "outputs": [],
   "source": [
    "train_X = train_X_set[:,0]\n",
    "train_A = train_X_set[:,1]\n",
    "val_X = val_X_set[:,0]\n",
    "val_A = val_X_set[:,1]\n",
    "degree = 20"
   ]
  },
  {
   "cell_type": "code",
   "execution_count": 11,
   "metadata": {},
   "outputs": [],
   "source": [
    "train_dataset = MyDataset(train_X, train_A, train_Y, degree)\n",
    "val_dataset = MyDataset(val_X, val_A, val_Y, degree)"
   ]
  },
  {
   "cell_type": "code",
   "execution_count": 12,
   "metadata": {},
   "outputs": [],
   "source": [
    "train_dataloader_args = dict(shuffle = True, batch_size = 32, drop_last = True, collate_fn=collate_fn)\n",
    "val_dataloader_args = dict(shuffle = False, batch_size = 32, drop_last = True, collate_fn=collate_fn)\n",
    "train_dataloader = DataLoader(train_dataset, **train_dataloader_args)\n",
    "val_dataloader = DataLoader(val_dataset, **val_dataloader_args)"
   ]
  },
  {
   "cell_type": "code",
   "execution_count": 13,
   "metadata": {},
   "outputs": [],
   "source": [
    "n_feature = 133\n",
    "n_class = 2\n",
    "SGC_base = SGC(n_feature, n_class)"
   ]
  },
  {
   "cell_type": "code",
   "execution_count": 14,
   "metadata": {},
   "outputs": [],
   "source": [
    "num_epoch = 30\n",
    "lr = 0.001\n",
    "wd = 5e-6\n",
    "criterion = nn.CrossEntropyLoss()\n",
    "optimizer = optim.SGD(SGC_base.parameters(), lr = lr, weight_decay = wd)\n",
    "scheduler = torch.optim.lr_scheduler.ReduceLROnPlateau(optimizer, mode='min', factor=0.1, patience = 0)"
   ]
  },
  {
   "cell_type": "code",
   "execution_count": 15,
   "metadata": {},
   "outputs": [
    {
     "data": {
      "image/png": "[encoded data removed]",
      "text/plain": [
       "<Figure size 432x288 with 1 Axes>"
      ]
     },
     "metadata": {
      "needs_background": "light"
     },
     "output_type": "display_data"
    }
   ],
   "source": [
    "train_losses, val_losses, train_accs, val_accs = train(SGC_base, train_dataloader, val_dataloader, optimizer, scheduler, criterion, num_epoch)\n",
    "plt.plot(train_losses, label = \"train_loss\")\n",
    "plt.plot(val_losses, label = \"val_loss\")\n",
    "plt.legend()\n",
    "plt.show()\n"
   ]
  },
  {
   "cell_type": "code",
   "execution_count": 16,
   "metadata": {},
   "outputs": [
    {
     "data": {
      "image/png": "[encoded data removed]",
      "text/plain": [
       "<Figure size 432x288 with 1 Axes>"
      ]
     },
     "metadata": {
      "needs_background": "light"
     },
     "output_type": "display_data"
    }
   ],
   "source": [
    "plt.plot(train_accs, label = \"train_accs\")\n",
    "plt.plot(val_accs, label = \"val_accs\")\n",
    "plt.legend()\n",
    "plt.show()"
   ]
  },
  {
   "cell_type": "code",
   "execution_count": 17,
   "metadata": {},
   "outputs": [],
   "source": [
    "test_X = np.load(\"data/test_feature.npy\", allow_pickle = True)\n",
    "test_A = np.load(\"data/test_adjacent_matrix.npy\", allow_pickle = True)\n",
    "test_Y = np.load(\"data/test_label.npy\", allow_pickle = True)\n",
    "test_dataset = MyDataset(test_X, test_A, test_Y, degree)\n",
    "test_dataloader = DataLoader(test_dataset, batch_size = 32, collate_fn=collate_fn)"
   ]
  },
  {
   "cell_type": "code",
   "execution_count": 18,
   "metadata": {},
   "outputs": [],
   "source": [
    "test_acc, _ = validate(SGC_base, test_dataloader, criterion)"
   ]
  },
  {
   "cell_type": "code",
   "execution_count": 19,
   "metadata": {},
   "outputs": [
    {
     "name": "stdout",
     "output_type": "stream",
     "text": [
      "0.6728395061728395\n"
     ]
    }
   ],
   "source": [
    "print(test_acc)"
   ]
  }
 ],
 "metadata": {
  "kernelspec": {
   "display_name": "Python 3",
   "language": "python",
   "name": "python3"
  },
  "language_info": {
   "codemirror_mode": {
    "name": "ipython",
    "version": 3
   },
   "file_extension": ".py",
   "mimetype": "text/x-python",
   "name": "python",
   "nbconvert_exporter": "python",
   "pygments_lexer": "ipython3",
   "version": "3.6.10"
  }
 },
 "nbformat": 4,
 "nbformat_minor": 4
}
